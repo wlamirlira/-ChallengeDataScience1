{
 "cells": [
  {
   "cell_type": "markdown",
   "metadata": {
    "id": "RhEdWd9YUR6H"
   },
   "source": [
    "### Importação dos dados\n",
    "\n"
   ]
  },
  {
   "cell_type": "code",
   "execution_count": 3,
   "metadata": {
    "colab": {
     "base_uri": "https://localhost:8080/",
     "height": 206
    },
    "id": "T3EvaeQ_INIL",
    "outputId": "7194bc65-372c-47e6-cb47-d4bfc9952c91"
   },
   "outputs": [
    {
     "data": {
      "text/html": [
       "<div>\n",
       "<style scoped>\n",
       "    .dataframe tbody tr th:only-of-type {\n",
       "        vertical-align: middle;\n",
       "    }\n",
       "\n",
       "    .dataframe tbody tr th {\n",
       "        vertical-align: top;\n",
       "    }\n",
       "\n",
       "    .dataframe thead th {\n",
       "        text-align: right;\n",
       "    }\n",
       "</style>\n",
       "<table border=\"1\" class=\"dataframe\">\n",
       "  <thead>\n",
       "    <tr style=\"text-align: right;\">\n",
       "      <th></th>\n",
       "      <th>Produto</th>\n",
       "      <th>Categoria do Produto</th>\n",
       "      <th>Preço</th>\n",
       "      <th>Frete</th>\n",
       "      <th>Data da Compra</th>\n",
       "      <th>Vendedor</th>\n",
       "      <th>Local da compra</th>\n",
       "      <th>Avaliação da compra</th>\n",
       "      <th>Tipo de pagamento</th>\n",
       "      <th>Quantidade de parcelas</th>\n",
       "      <th>lat</th>\n",
       "      <th>lon</th>\n",
       "    </tr>\n",
       "  </thead>\n",
       "  <tbody>\n",
       "    <tr>\n",
       "      <th>0</th>\n",
       "      <td>Assistente virtual</td>\n",
       "      <td>eletronicos</td>\n",
       "      <td>219.08</td>\n",
       "      <td>9.249790</td>\n",
       "      <td>16/01/2021</td>\n",
       "      <td>Pedro Gomes</td>\n",
       "      <td>SP</td>\n",
       "      <td>4</td>\n",
       "      <td>cartao_credito</td>\n",
       "      <td>8</td>\n",
       "      <td>-22.19</td>\n",
       "      <td>-48.79</td>\n",
       "    </tr>\n",
       "    <tr>\n",
       "      <th>1</th>\n",
       "      <td>Mesa de jantar</td>\n",
       "      <td>moveis</td>\n",
       "      <td>256.35</td>\n",
       "      <td>11.234305</td>\n",
       "      <td>18/05/2022</td>\n",
       "      <td>Beatriz Moraes</td>\n",
       "      <td>RJ</td>\n",
       "      <td>1</td>\n",
       "      <td>cartao_credito</td>\n",
       "      <td>4</td>\n",
       "      <td>-22.25</td>\n",
       "      <td>-42.66</td>\n",
       "    </tr>\n",
       "    <tr>\n",
       "      <th>2</th>\n",
       "      <td>Jogo de tabuleiro</td>\n",
       "      <td>brinquedos</td>\n",
       "      <td>279.51</td>\n",
       "      <td>21.262681</td>\n",
       "      <td>15/03/2021</td>\n",
       "      <td>João Souza</td>\n",
       "      <td>DF</td>\n",
       "      <td>1</td>\n",
       "      <td>cartao_credito</td>\n",
       "      <td>1</td>\n",
       "      <td>-15.83</td>\n",
       "      <td>-47.86</td>\n",
       "    </tr>\n",
       "    <tr>\n",
       "      <th>3</th>\n",
       "      <td>Micro-ondas</td>\n",
       "      <td>eletrodomesticos</td>\n",
       "      <td>1009.99</td>\n",
       "      <td>54.667344</td>\n",
       "      <td>03/05/2022</td>\n",
       "      <td>João Souza</td>\n",
       "      <td>RS</td>\n",
       "      <td>4</td>\n",
       "      <td>boleto</td>\n",
       "      <td>1</td>\n",
       "      <td>-30.17</td>\n",
       "      <td>-53.50</td>\n",
       "    </tr>\n",
       "    <tr>\n",
       "      <th>4</th>\n",
       "      <td>Cadeira de escritório</td>\n",
       "      <td>moveis</td>\n",
       "      <td>446.99</td>\n",
       "      <td>26.964689</td>\n",
       "      <td>07/11/2020</td>\n",
       "      <td>Larissa Alves</td>\n",
       "      <td>MG</td>\n",
       "      <td>5</td>\n",
       "      <td>boleto</td>\n",
       "      <td>1</td>\n",
       "      <td>-18.10</td>\n",
       "      <td>-44.38</td>\n",
       "    </tr>\n",
       "  </tbody>\n",
       "</table>\n",
       "</div>"
      ],
      "text/plain": [
       "                 Produto Categoria do Produto    Preço      Frete  \\\n",
       "0     Assistente virtual          eletronicos   219.08   9.249790   \n",
       "1         Mesa de jantar               moveis   256.35  11.234305   \n",
       "2      Jogo de tabuleiro           brinquedos   279.51  21.262681   \n",
       "3            Micro-ondas     eletrodomesticos  1009.99  54.667344   \n",
       "4  Cadeira de escritório               moveis   446.99  26.964689   \n",
       "\n",
       "  Data da Compra        Vendedor Local da compra  Avaliação da compra  \\\n",
       "0     16/01/2021     Pedro Gomes              SP                    4   \n",
       "1     18/05/2022  Beatriz Moraes              RJ                    1   \n",
       "2     15/03/2021      João Souza              DF                    1   \n",
       "3     03/05/2022      João Souza              RS                    4   \n",
       "4     07/11/2020   Larissa Alves              MG                    5   \n",
       "\n",
       "  Tipo de pagamento  Quantidade de parcelas    lat    lon  \n",
       "0    cartao_credito                       8 -22.19 -48.79  \n",
       "1    cartao_credito                       4 -22.25 -42.66  \n",
       "2    cartao_credito                       1 -15.83 -47.86  \n",
       "3            boleto                       1 -30.17 -53.50  \n",
       "4            boleto                       1 -18.10 -44.38  "
      ]
     },
     "execution_count": 3,
     "metadata": {},
     "output_type": "execute_result"
    }
   ],
   "source": [
    "import pandas as pd\n",
    "\n",
    "url = \"https://raw.githubusercontent.com/alura-es-cursos/challenge1-data-science/refs/heads/main/base-de-dados-challenge-1/loja_1.csv\"\n",
    "url2 = \"https://raw.githubusercontent.com/alura-es-cursos/challenge1-data-science/refs/heads/main/base-de-dados-challenge-1/loja_2.csv\"\n",
    "url3 = \"https://raw.githubusercontent.com/alura-es-cursos/challenge1-data-science/refs/heads/main/base-de-dados-challenge-1/loja_3.csv\"\n",
    "url4 = \"https://raw.githubusercontent.com/alura-es-cursos/challenge1-data-science/refs/heads/main/base-de-dados-challenge-1/loja_4.csv\"\n",
    "\n",
    "loja = pd.read_csv(url)\n",
    "loja2 = pd.read_csv(url2)\n",
    "loja3 = pd.read_csv(url3)\n",
    "loja4 = pd.read_csv(url4)\n",
    "\n",
    "loja.head()"
   ]
  },
  {
   "cell_type": "markdown",
   "metadata": {
    "id": "X62IW3KFUIYm"
   },
   "source": [
    "#1. Análise do faturamento\n"
   ]
  },
  {
   "cell_type": "code",
   "execution_count": 4,
   "metadata": {
    "id": "xykobSftV64I"
   },
   "outputs": [
    {
     "name": "stdout",
     "output_type": "stream",
     "text": [
      "<class 'pandas.core.frame.DataFrame'>\n",
      "RangeIndex: 2359 entries, 0 to 2358\n",
      "Data columns (total 12 columns):\n",
      " #   Column                  Non-Null Count  Dtype  \n",
      "---  ------                  --------------  -----  \n",
      " 0   Produto                 2359 non-null   object \n",
      " 1   Categoria do Produto    2359 non-null   object \n",
      " 2   Preço                   2359 non-null   float64\n",
      " 3   Frete                   2359 non-null   float64\n",
      " 4   Data da Compra          2359 non-null   object \n",
      " 5   Vendedor                2359 non-null   object \n",
      " 6   Local da compra         2359 non-null   object \n",
      " 7   Avaliação da compra     2359 non-null   int64  \n",
      " 8   Tipo de pagamento       2359 non-null   object \n",
      " 9   Quantidade de parcelas  2359 non-null   int64  \n",
      " 10  lat                     2359 non-null   float64\n",
      " 11  lon                     2359 non-null   float64\n",
      "dtypes: float64(4), int64(2), object(6)\n",
      "memory usage: 221.3+ KB\n"
     ]
    }
   ],
   "source": [
    "loja.info()"
   ]
  },
  {
   "cell_type": "code",
   "execution_count": 22,
   "metadata": {
    "id": "KDyr8E71V3m-"
   },
   "outputs": [
    {
     "name": "stdout",
     "output_type": "stream",
     "text": [
      "Faturamento Loja 1: R$ 1534509.12\n",
      "Faturamento Loja 2: R$ 1488459.06\n",
      "Faturamento Loja 3: R$ 1464025.03\n",
      "Faturamento Loja 4: R$ 1384497.58\n"
     ]
    }
   ],
   "source": [
    "faturamento_loja1 = loja['Preço'].sum()\n",
    "faturamento_loja2 = loja2['Preço'].sum()\n",
    "faturamento_loja3 = loja3['Preço'].sum()\n",
    "faturamento_loja4 = loja4['Preço'].sum()\n",
    "\n",
    "print(f'Faturamento Loja 1: R$ {faturamento_loja1}')\n",
    "print(f'Faturamento Loja 2: R$ {faturamento_loja2}')\n",
    "print(f'Faturamento Loja 3: R$ {faturamento_loja3}')\n",
    "print(f'Faturamento Loja 4: R$ {faturamento_loja4}')"
   ]
  },
  {
   "cell_type": "markdown",
   "metadata": {
    "id": "2V_vcAPzWZmR"
   },
   "source": [
    "# 2. Vendas por Categoria\n"
   ]
  },
  {
   "cell_type": "code",
   "execution_count": 78,
   "metadata": {
    "id": "A34YupIuYhfF"
   },
   "outputs": [
    {
     "name": "stdout",
     "output_type": "stream",
     "text": [
      "LOJA 1\n",
      "                           Preço\n",
      "Categoria do Produto            \n",
      "brinquedos              23993.78\n",
      "eletrodomesticos       484913.36\n",
      "eletronicos            572659.23\n",
      "esporte e lazer         52387.55\n",
      "instrumentos musicais  121731.69\n",
      "livros                  11713.92\n",
      "moveis                 250178.11\n",
      "utilidades domesticas   16931.48\n",
      "\n",
      "LOJA 2\n",
      "                           Preço\n",
      "Categoria do Produto            \n",
      "brinquedos              21262.21\n",
      "eletrodomesticos       464758.13\n",
      "eletronicos            547773.71\n",
      "esporte e lazer         46326.09\n",
      "instrumentos musicais  139987.03\n",
      "livros                  13454.35\n",
      "moveis                 235234.68\n",
      "utilidades domesticas   19662.86\n",
      "\n",
      "LOJA 3\n",
      "                           Preço\n",
      "Categoria do Produto            \n",
      "brinquedos              25869.20\n",
      "eletrodomesticos       438984.89\n",
      "eletronicos            547699.92\n",
      "esporte e lazer         47456.10\n",
      "instrumentos musicais  103174.45\n",
      "livros                  12664.70\n",
      "moveis                 268095.56\n",
      "utilidades domesticas   20080.21\n",
      "\n",
      "LOJA 4\n",
      "                           Preço\n",
      "Categoria do Produto            \n",
      "brinquedos              27015.67\n",
      "eletrodomesticos       377680.65\n",
      "eletronicos            545966.86\n",
      "esporte e lazer         44465.65\n",
      "instrumentos musicais  100136.50\n",
      "livros                  12427.77\n",
      "moveis                 256705.65\n",
      "utilidades domesticas   20098.83\n"
     ]
    }
   ],
   "source": [
    "loja1_categoria_preco = loja[['Categoria do Produto','Preço']]\n",
    "print('LOJA 1')\n",
    "print(loja1_categoria_preco.groupby('Categoria do Produto').sum())\n",
    "print()\n",
    "print('LOJA 2')\n",
    "loja2_categoria_preco = loja2[['Categoria do Produto','Preço']]\n",
    "print(loja2_categoria_preco.groupby('Categoria do Produto').sum())\n",
    "print()\n",
    "print('LOJA 3')\n",
    "loja3_categoria_preco = loja3[['Categoria do Produto','Preço']]\n",
    "print(loja3_categoria_preco.groupby('Categoria do Produto').sum())\n",
    "print()\n",
    "print('LOJA 4')\n",
    "loja4_categoria_preco = loja4[['Categoria do Produto','Preço']]\n",
    "print(loja4_categoria_preco.groupby('Categoria do Produto').sum())"
   ]
  },
  {
   "cell_type": "code",
   "execution_count": null,
   "metadata": {
    "id": "yZR6cOjXYSk1"
   },
   "outputs": [],
   "source": []
  },
  {
   "cell_type": "markdown",
   "metadata": {
    "id": "Rq6tU_xSY3jk"
   },
   "source": [
    "# 3. Média de Avaliação das Lojas"
   ]
  },
  {
   "cell_type": "code",
   "execution_count": 100,
   "metadata": {
    "id": "bh3jjjJwY5MU"
   },
   "outputs": [
    {
     "name": "stdout",
     "output_type": "stream",
     "text": [
      "Média da avaliação da satisfação dos clientes para a loja 1: 3.98\n",
      "Média da avaliação da satisfação dos clientes para a loja 2: 4.04\n",
      "Média da avaliação da satisfação dos clientes para a loja 3: 4.05\n",
      "Média da avaliação da satisfação dos clientes para a loja 4: 4.0\n"
     ]
    }
   ],
   "source": [
    "media_avaliacao_loja1 = loja['Avaliação da compra'].mean()\n",
    "print(f'Média da avaliação da satisfação dos clientes para a loja 1: {round(media_avaliacao_loja1,2)}')\n",
    "\n",
    "media_avaliacao_loja2 = loja2['Avaliação da compra'].mean()\n",
    "print(f'Média da avaliação da satisfação dos clientes para a loja 2: {round(media_avaliacao_loja2,2)}')\n",
    "\n",
    "media_avaliacao_loja3 = loja3['Avaliação da compra'].mean()\n",
    "print(f'Média da avaliação da satisfação dos clientes para a loja 3: {round(media_avaliacao_loja3,2)}')\n",
    "\n",
    "media_avaliacao_loja4 = loja4['Avaliação da compra'].mean()\n",
    "print(f'Média da avaliação da satisfação dos clientes para a loja 4: {round(media_avaliacao_loja4,2)}')"
   ]
  },
  {
   "cell_type": "code",
   "execution_count": null,
   "metadata": {
    "id": "I0KkjPoTY88F"
   },
   "outputs": [],
   "source": []
  },
  {
   "cell_type": "markdown",
   "metadata": {
    "id": "DmNp1KPBZCm-"
   },
   "source": [
    "# 4. Produtos Mais e Menos Vendidos"
   ]
  },
  {
   "cell_type": "code",
   "execution_count": 124,
   "metadata": {
    "id": "qoyjqijQZHfF"
   },
   "outputs": [
    {
     "name": "stdout",
     "output_type": "stream",
     "text": [
      "LOJA 1\n",
      "                                 Preço\n",
      "Produto                               \n",
      "TV Led UHD 4K                189534.28\n",
      "Geladeira                    149524.28\n",
      "Celular Plus X42             130536.40\n",
      "Smart TV                      89936.15\n",
      "Lavadora de roupas            87711.30\n",
      "Lava louças                   82739.86\n",
      "Secadora de roupas            78749.73\n",
      "Tablet ABXY                   63520.11\n",
      "Bateria                       50258.34\n",
      "Guitarra                      49722.88\n",
      "Micro-ondas                   46348.89\n",
      "Celular ABXY                  43534.47\n",
      "Sofá retrátil                 41839.25\n",
      "Cama king                     41569.04\n",
      "Fogão                         39839.30\n",
      "Guarda roupas                 39282.78\n",
      "Bicicleta                     36592.38\n",
      "Cama box                      29459.35\n",
      "Cadeira de escritório         23556.36\n",
      "Impressora                    21884.23\n",
      "Cômoda                        20905.92\n",
      "Violão                        18765.28\n",
      "Kit banquetas                 16188.25\n",
      "Mesa de jantar                14042.39\n",
      "Poltrona                      13172.23\n",
      "Assistente virtual            10744.05\n",
      "Mesa de centro                10162.54\n",
      "Jogo de tabuleiro             10152.50\n",
      "Smartwatch                     9936.51\n",
      "Jogo de panelas                8410.44\n",
      "Fone de ouvido                 6725.32\n",
      "Headset                        6307.71\n",
      "Mochila                        5156.50\n",
      "Carrinho controle remoto       5015.28\n",
      "Modelagem preditiva            4229.85\n",
      "Bola de basquete               3666.88\n",
      "Panela de pressão              3505.71\n",
      "Copo térmico                   3284.68\n",
      "Faqueiro                       3203.18\n",
      "Pandeiro                       2985.19\n",
      "Bola de vôlei                  2816.22\n",
      "Iniciando em programação       2791.03\n",
      "Ciência de dados com python    2752.18\n",
      "Boneca bebê                    2583.17\n",
      "Blocos de montar               2487.74\n",
      "Dashboards com Power BI        1940.86\n",
      "Xadrez de madeira              1907.42\n",
      "Jogo de copos                  1812.15\n",
      "Cubo mágico 8x8                 929.27\n",
      "Dinossauro Rex                  918.40\n",
      "Corda de pular                  870.89\n",
      "\n",
      "LOJA 2\n",
      "                                 Preço\n",
      "Produto                               \n",
      "Celular Plus X42             150967.83\n",
      "TV Led UHD 4K                137833.06\n",
      "Geladeira                    130176.48\n",
      "Lavadora de roupas            89016.81\n",
      "Smart TV                      81522.94\n",
      "Secadora de roupas            78820.31\n",
      "Lava louças                   78357.00\n",
      "Tablet ABXY                   74945.97\n",
      "Bateria                       61566.87\n",
      "Celular ABXY                  55558.43\n",
      "Guitarra                      48589.03\n",
      "Micro-ondas                   48256.37\n",
      "Fogão                         40131.16\n",
      "Sofá retrátil                 39318.68\n",
      "Cama king                     37618.26\n",
      "Guarda roupas                 34900.24\n",
      "Cama box                      32476.36\n",
      "Bicicleta                     30611.11\n",
      "Violão                        24864.13\n",
      "Cadeira de escritório         24706.82\n",
      "Kit banquetas                 16806.13\n",
      "Cômoda                        16306.77\n",
      "Impressora                    13846.69\n",
      "Mesa de jantar                11516.31\n",
      "Poltrona                      11218.00\n",
      "Jogo de panelas               10619.48\n",
      "Assistente virtual            10572.47\n",
      "Mesa de centro                10367.11\n",
      "Smartwatch                    10241.06\n",
      "Jogo de tabuleiro              7749.58\n",
      "Headset                        7525.98\n",
      "Mochila                        5856.96\n",
      "Pandeiro                       4967.00\n",
      "Fone de ouvido                 4759.28\n",
      "Panela de pressão              4676.44\n",
      "Carrinho controle remoto       4362.38\n",
      "Iniciando em programação       4169.96\n",
      "Modelagem preditiva            3953.04\n",
      "Ciência de dados com python    3198.42\n",
      "Boneca bebê                    3161.66\n",
      "Bola de vôlei                  3052.62\n",
      "Copo térmico                   2874.63\n",
      "Bola de basquete               2788.23\n",
      "Blocos de montar               2385.91\n",
      "Faqueiro                       2310.25\n",
      "Dashboards com Power BI        2132.93\n",
      "Jogo de copos                  2056.69\n",
      "Xadrez de madeira              1717.05\n",
      "Corda de pular                 1142.54\n",
      "Dinossauro Rex                 1027.41\n",
      "Cubo mágico 8x8                 858.22\n",
      "\n",
      "LOJA 3\n",
      "                                 Preço\n",
      "Produto                               \n",
      "Geladeira                    133185.99\n",
      "TV Led UHD 4K                128892.11\n",
      "Celular Plus X42             124300.84\n",
      "Smart TV                     105116.46\n",
      "Lava louças                   85819.73\n",
      "Tablet ABXY                   77919.93\n",
      "Lavadora de roupas            76612.58\n",
      "Secadora de roupas            66397.97\n",
      "Celular ABXY                  57893.04\n",
      "Cama king                     51779.90\n",
      "Fogão                         51430.37\n",
      "Sofá retrátil                 40426.24\n",
      "Guitarra                      39797.29\n",
      "Bateria                       39158.71\n",
      "Cama box                      32933.14\n",
      "Bicicleta                     32872.35\n",
      "Guarda roupas                 32249.71\n",
      "Micro-ondas                   25538.25\n",
      "Cadeira de escritório         24501.63\n",
      "Kit banquetas                 22265.96\n",
      "Cômoda                        20487.18\n",
      "Violão                        19891.55\n",
      "Mesa de jantar                19101.40\n",
      "Impressora                    18958.16\n",
      "Poltrona                      15111.19\n",
      "Jogo de tabuleiro             12959.61\n",
      "Jogo de panelas               11595.04\n",
      "Smartwatch                    10695.81\n",
      "Assistente virtual            10684.06\n",
      "Mesa de centro                 9239.21\n",
      "Headset                        7960.16\n",
      "Fone de ouvido                 5279.35\n",
      "Carrinho controle remoto       4960.74\n",
      "Mochila                        4729.54\n",
      "Panela de pressão              4502.71\n",
      "Modelagem preditiva            4499.94\n",
      "Pandeiro                       4326.90\n",
      "Bola de basquete               3304.02\n",
      "Ciência de dados com python    3286.59\n",
      "Bola de vôlei                  3111.74\n",
      "Iniciando em programação       3048.36\n",
      "Boneca bebê                    2577.11\n",
      "Faqueiro                       2368.26\n",
      "Copo térmico                   2300.69\n",
      "Dashboards com Power BI        1829.81\n",
      "Xadrez de madeira              1807.34\n",
      "Blocos de montar               1649.81\n",
      "Jogo de copos                  1614.20\n",
      "Corda de pular                 1137.76\n",
      "Dinossauro Rex                 1060.78\n",
      "Cubo mágico 8x8                 853.81\n",
      "\n",
      "LOJA 4\n",
      "                                 Preço\n",
      "Produto                               \n",
      "Celular Plus X42             128930.07\n",
      "TV Led UHD 4K                120393.25\n",
      "Smart TV                     110387.57\n",
      "Geladeira                    100362.59\n",
      "Tablet ABXY                   75630.75\n",
      "Lava louças                   73798.99\n",
      "Lavadora de roupas            69951.68\n",
      "Secadora de roupas            56349.30\n",
      "Celular ABXY                  53561.83\n",
      "Cama king                     50073.16\n",
      "Bateria                       46090.53\n",
      "Cama box                      43928.57\n",
      "Fogão                         43094.36\n",
      "Sofá retrátil                 42787.68\n",
      "Guitarra                      34430.67\n",
      "Micro-ondas                   34123.73\n",
      "Bicicleta                     28572.45\n",
      "Guarda roupas                 21895.36\n",
      "Impressora                    20279.95\n",
      "Cômoda                        20192.46\n",
      "Cadeira de escritório         19367.50\n",
      "Mesa de jantar                17760.80\n",
      "Kit banquetas                 15785.44\n",
      "Violão                        15009.67\n",
      "Poltrona                      14893.93\n",
      "Assistente virtual            13956.01\n",
      "Jogo de tabuleiro             12407.53\n",
      "Jogo de panelas               10050.38\n",
      "Mesa de centro                10020.75\n",
      "Smartwatch                     9032.52\n",
      "Headset                        8537.05\n",
      "Mochila                        5678.54\n",
      "Carrinho controle remoto       5352.22\n",
      "Fone de ouvido                 5257.86\n",
      "Pandeiro                       4605.63\n",
      "Panela de pressão              4554.05\n",
      "Modelagem preditiva            4137.88\n",
      "Faqueiro                       3532.16\n",
      "Bola de basquete               3252.94\n",
      "Bola de vôlei                  3152.14\n",
      "Boneca bebê                    3134.11\n",
      "Copo térmico                   2869.84\n",
      "Iniciando em programação       2823.74\n",
      "Ciência de dados com python    2811.87\n",
      "Dashboards com Power BI        2654.28\n",
      "Blocos de montar               2546.40\n",
      "Jogo de copos                  1962.24\n",
      "Xadrez de madeira              1434.09\n",
      "Dinossauro Rex                 1143.94\n",
      "Cubo mágico 8x8                 997.38\n",
      "Corda de pular                  939.74\n"
     ]
    }
   ],
   "source": [
    "loja1_produto_preco = loja[['Produto','Preço']]\n",
    "print('LOJA 1')\n",
    "print(loja1_produto_preco.groupby('Produto').sum().sort_values(by='Preço',ascending=False))\n",
    "print()\n",
    "print('LOJA 2')\n",
    "loja2_produto_preco = loja2[['Produto','Preço']]\n",
    "print(loja2_produto_preco.groupby('Produto').sum().sort_values(by='Preço',ascending=False))\n",
    "print()\n",
    "print('LOJA 3')\n",
    "loja3_produto_preco = loja3[['Produto','Preço']]\n",
    "print(loja3_produto_preco.groupby('Produto').sum().sort_values(by='Preço',ascending=False))\n",
    "print()\n",
    "print('LOJA 4')\n",
    "loja4_produto_preco = loja4[['Produto','Preço']]\n",
    "print(loja4_produto_preco.groupby('Produto').sum().sort_values(by='Preço',ascending=False))"
   ]
  },
  {
   "cell_type": "code",
   "execution_count": null,
   "metadata": {
    "id": "0Sw3sd4IZIGW"
   },
   "outputs": [],
   "source": []
  },
  {
   "cell_type": "markdown",
   "metadata": {
    "id": "Fl0cGi3bZKqU"
   },
   "source": [
    "# 5. Frete Médio por Loja\n"
   ]
  },
  {
   "cell_type": "code",
   "execution_count": 23,
   "metadata": {
    "id": "S2JeaCykZNy9"
   },
   "outputs": [
    {
     "name": "stdout",
     "output_type": "stream",
     "text": [
      "Loja 1\n",
      "Em média a loja 1 gasta com frete R$ 34.69\n",
      "\n",
      "Loja 2\n",
      "Em média a loja 2 gasta com frete R$ 33.62\n",
      "\n",
      "Loja 3\n",
      "Em média a loja 3 gasta com frete R$ 33.07\n",
      "\n",
      "Loja 4\n",
      "Em média a loja 4 gasta com frete R$ 31.28\n"
     ]
    }
   ],
   "source": [
    "print('Loja 1')\n",
    "gasto_medio_frete = round(loja['Frete'].mean(),2)\n",
    "print(f'Em média a loja 1 gasta com frete R$ {gasto_medio_frete}')\n",
    "print()\n",
    "print('Loja 2')\n",
    "gasto_medio_frete = round(loja2['Frete'].mean(),2)\n",
    "print(f'Em média a loja 2 gasta com frete R$ {gasto_medio_frete}')\n",
    "print()\n",
    "print('Loja 3')\n",
    "gasto_medio_frete = round(loja3['Frete'].mean(),2)\n",
    "print(f'Em média a loja 3 gasta com frete R$ {gasto_medio_frete}')\n",
    "print()\n",
    "print('Loja 4')\n",
    "gasto_medio_frete = round(loja4['Frete'].mean(),2)\n",
    "print(f'Em média a loja 4 gasta com frete R$ {gasto_medio_frete}')"
   ]
  },
  {
   "cell_type": "code",
   "execution_count": null,
   "metadata": {
    "id": "0tSdCie9ZQlt"
   },
   "outputs": [],
   "source": []
  }
 ],
 "metadata": {
  "colab": {
   "provenance": []
  },
  "kernelspec": {
   "display_name": "Python [conda env:base] *",
   "language": "python",
   "name": "conda-base-py"
  },
  "language_info": {
   "codemirror_mode": {
    "name": "ipython",
    "version": 3
   },
   "file_extension": ".py",
   "mimetype": "text/x-python",
   "name": "python",
   "nbconvert_exporter": "python",
   "pygments_lexer": "ipython3",
   "version": "3.12.7"
  }
 },
 "nbformat": 4,
 "nbformat_minor": 4
}
